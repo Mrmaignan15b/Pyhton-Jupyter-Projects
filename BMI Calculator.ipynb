{
 "cells": [
  {
   "cell_type": "code",
   "execution_count": 4,
   "id": "34ee856f",
   "metadata": {},
   "outputs": [
    {
     "name": "stdout",
     "output_type": "stream",
     "text": [
      "Enter your name: Matthew\n",
      "Enter your weight in pounds: 180\n",
      "Enter your height in inches: 70\n",
      "25.824489795918367\n",
      "Matthew, you are overweight. Look into creating a healthy eating and excercise plan to lose weight. \n"
     ]
    }
   ],
   "source": [
    "name = input('Enter your name: ')\n",
    "\n",
    "weight = int(input(\"Enter your weight in pounds: \"))\n",
    "\n",
    "height = int(input(\"Enter your height in inches: \"))\n",
    "\n",
    "BMI = (weight * 703) / (height * height )\n",
    "\n",
    "print(BMI)\n",
    "\n",
    "\n",
    "if BMI>0: \n",
    "    if(BMI<18.5):\n",
    "        print(name+\", you are underweight. Look into creating an healthy eating and excercise plan to gain weight. \")\n",
    "    \n",
    "    elif(BMI<= 24.9):\n",
    "        print(name+\", you are normal weight. \")\n",
    "    \n",
    "    elif(BMI<29.9):\n",
    "        print(name+\", you are overweight. Look into creating a healthy eating and excercise plan to lose weight. \")\n",
    "    \n",
    "    elif(BMI<34.9):\n",
    "        print(name+\", you are obese. Look into creating a healthy eating and excercise plan to lose weight. \")\n",
    "    \n",
    "    elif(BMI<39.9):\n",
    "        print(name+\", you are severley obese. Take action now \")\n",
    "    \n",
    "    else: \n",
    "        print(name+\", you are more morbidly obese. Action is needed now to maintain a longer life for youself and your loved ones.\")\n",
    "\n",
    "else: \n",
    "    print(\"Enter valid input\")\n"
   ]
  },
  {
   "cell_type": "code",
   "execution_count": null,
   "id": "23f56798",
   "metadata": {},
   "outputs": [],
   "source": []
  },
  {
   "cell_type": "code",
   "execution_count": null,
   "id": "23d63eac",
   "metadata": {},
   "outputs": [],
   "source": [
    "#BMI = (weight in pounds x 703) / (height in inches x height in inches)."
   ]
  },
  {
   "cell_type": "code",
   "execution_count": null,
   "id": "b5e07589",
   "metadata": {},
   "outputs": [],
   "source": [
    "print(weight)"
   ]
  },
  {
   "cell_type": "code",
   "execution_count": null,
   "id": "c2eb0420",
   "metadata": {},
   "outputs": [],
   "source": [
    "Under 18.5\tUnderweight\tMinimal\n",
    "18.5 - 24.9\tNormal Weight\tMinimal\n",
    "25 - 29.9\tOverweight\tIncreased\n",
    "30 - 34.9\tObese\tHigh\n",
    "35 - 39.9\tSeverely Obese\tVery High\n",
    "40 and over\tMorbidly Obese\tExtremely High"
   ]
  },
  {
   "cell_type": "code",
   "execution_count": null,
   "id": "8a69195a",
   "metadata": {},
   "outputs": [],
   "source": []
  },
  {
   "cell_type": "code",
   "execution_count": null,
   "id": "adb3275e",
   "metadata": {},
   "outputs": [],
   "source": []
  },
  {
   "cell_type": "code",
   "execution_count": null,
   "id": "06f25e8b",
   "metadata": {},
   "outputs": [],
   "source": []
  },
  {
   "cell_type": "code",
   "execution_count": null,
   "id": "8e8f0ac7",
   "metadata": {},
   "outputs": [],
   "source": []
  },
  {
   "cell_type": "code",
   "execution_count": null,
   "id": "ddce81bd",
   "metadata": {},
   "outputs": [],
   "source": []
  },
  {
   "cell_type": "code",
   "execution_count": null,
   "id": "47a1042d",
   "metadata": {},
   "outputs": [],
   "source": []
  }
 ],
 "metadata": {
  "kernelspec": {
   "display_name": "Python 3 (ipykernel)",
   "language": "python",
   "name": "python3"
  },
  "language_info": {
   "codemirror_mode": {
    "name": "ipython",
    "version": 3
   },
   "file_extension": ".py",
   "mimetype": "text/x-python",
   "name": "python",
   "nbconvert_exporter": "python",
   "pygments_lexer": "ipython3",
   "version": "3.9.13"
  }
 },
 "nbformat": 4,
 "nbformat_minor": 5
}
